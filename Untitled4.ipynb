{
 "cells": [
  {
   "cell_type": "code",
   "execution_count": 4,
   "id": "e0b63cf7",
   "metadata": {},
   "outputs": [],
   "source": [
    "x = 3\n",
    "if x == 1 :\n",
    "    print(\"你好\")\n",
    "if x == 0 :\n",
    "    print(\"要看剩巴西蛋老公公嗎?\")"
   ]
  },
  {
   "cell_type": "code",
   "execution_count": 5,
   "id": "50ad24f7",
   "metadata": {},
   "outputs": [
    {
     "name": "stdout",
     "output_type": "stream",
     "text": [
      "我今年剛滿18歲\n",
      "馬卡巴卡\n",
      "hey 渣男\n"
     ]
    }
   ],
   "source": [
    "x = 1\n",
    "if x == 0 :\n",
    "    print(\"你年幾歲?\")\n",
    "if x == 1 : #第一\n",
    "    print(\"我今年剛滿18歲\") #二\n",
    "    x = x+1\n",
    "    if x == 2 : #第二\n",
    "        print(\"馬卡巴卡\")\n",
    "        x=x+1\n",
    "        if x == 3 :\n",
    "            print(\"hey 渣男\")"
   ]
  },
  {
   "cell_type": "code",
   "execution_count": 7,
   "id": "d3edc484",
   "metadata": {},
   "outputs": [
    {
     "name": "stdout",
     "output_type": "stream",
     "text": [
      "我愛唱、跳、rap、music、籃球。\n"
     ]
    }
   ],
   "source": [
    "import random\n",
    "\n",
    "ck = random.randint(1, 2)\n",
    "\n",
    "if ck == 1:\n",
    "    print(\"我愛唱、跳、rap、music、籃球。\")\n",
    "else:\n",
    "    print(\"你媽是哆啦A夢\")"
   ]
  },
  {
   "cell_type": "code",
   "execution_count": 10,
   "id": "0454685a",
   "metadata": {},
   "outputs": [
    {
     "name": "stdout",
     "output_type": "stream",
     "text": [
      "1\n",
      "2\n",
      "3\n",
      "4\n",
      "5\n",
      "6\n",
      "7\n",
      "8\n",
      "9\n",
      "10\n"
     ]
    }
   ],
   "source": [
    "for z in range(1,11):\n",
    "    print(z)"
   ]
  },
  {
   "cell_type": "code",
   "execution_count": 16,
   "id": "fc1f0075",
   "metadata": {},
   "outputs": [
    {
     "name": "stdout",
     "output_type": "stream",
     "text": [
      "321312{x}\n"
     ]
    }
   ],
   "source": [
    "x=\"你好\"\n",
    "print(\"321312{x}\")"
   ]
  },
  {
   "cell_type": "code",
   "execution_count": null,
   "id": "7283be07",
   "metadata": {},
   "outputs": [],
   "source": []
  },
  {
   "cell_type": "code",
   "execution_count": 22,
   "id": "b212d598",
   "metadata": {},
   "outputs": [
    {
     "name": "stdout",
     "output_type": "stream",
     "text": [
      "1+2+3+4+5+6+7+8+9+10 = 55\n",
      "老六你很好\n",
      "老六你很好\n",
      "老六你很好\n",
      "老六你很好\n",
      "老六你很好\n",
      "老六你很好\n",
      "老六你很好\n",
      "老六你很好\n",
      "老六你很好\n",
      "老六你很好\n",
      "老六你很好\n",
      "老六你很好\n",
      "老六你很好\n",
      "老六你很好\n",
      "老六你很好\n",
      "老六你很好\n",
      "老六你很好\n",
      "老六你很好\n",
      "老六你很好\n",
      "老六你很好\n",
      "老六你很好\n",
      "老六你很好\n",
      "老六你很好\n",
      "老六你很好\n",
      "老六你很好\n",
      "老六你很好\n",
      "老六你很好\n",
      "老六你很好\n",
      "老六你很好\n",
      "老六你很好\n",
      "老六你很好\n",
      "老六你很好\n",
      "老六你很好\n",
      "老六你很好\n",
      "老六你很好\n",
      "老六你很好\n",
      "老六你很好\n",
      "老六你很好\n",
      "老六你很好\n",
      "老六你很好\n",
      "老六你很好\n",
      "老六你很好\n",
      "老六你很好\n",
      "老六你很好\n",
      "老六你很好\n",
      "老六你很好\n",
      "老六你很好\n",
      "老六你很好\n",
      "老六你很好\n",
      "老六你很好\n",
      "老六你很好\n",
      "老六你很好\n",
      "老六你很好\n",
      "老六你很好\n",
      "老六你很好\n"
     ]
    }
   ],
   "source": [
    "total_sum = sum(range(1, 11))\n",
    "\n",
    "print(\"1+2+3+4+5+6+7+8+9+10 =\", total_sum)\n",
    "\n",
    "for x in range(total_sum):\n",
    "    print(\"老六你很好\")"
   ]
  },
  {
   "cell_type": "code",
   "execution_count": 26,
   "id": "f61a6566",
   "metadata": {
    "scrolled": true
   },
   "outputs": [
    {
     "name": "stdout",
     "output_type": "stream",
     "text": [
      "你好\n",
      "你好\n",
      "你好\n",
      "你好\n",
      "你好\n",
      "你好\n",
      "你好\n",
      "你好\n",
      "你好\n",
      "你好\n"
     ]
    }
   ],
   "source": [
    "for x in (\"2134567891\"):\n",
    "    print(\"你好\")\n",
    "    "
   ]
  },
  {
   "cell_type": "code",
   "execution_count": null,
   "id": "e5154ccd",
   "metadata": {},
   "outputs": [],
   "source": [
    "x=1\n",
    "while x!=1:#不等於1 執行\n",
    "    print(\"s\")\n",
    "    \n",
    "    "
   ]
  },
  {
   "cell_type": "code",
   "execution_count": 36,
   "id": "4dcbd3b7",
   "metadata": {},
   "outputs": [
    {
     "name": "stdout",
     "output_type": "stream",
     "text": [
      "{1}\n"
     ]
    }
   ],
   "source": [
    "x = {1,2,3,4,5}\n",
    "y = {2,3,4,5,6,7}\n",
    "g = x-y\n",
    "print(g)"
   ]
  },
  {
   "cell_type": "code",
   "execution_count": null,
   "id": "dd807fa9",
   "metadata": {},
   "outputs": [],
   "source": []
  }
 ],
 "metadata": {
  "kernelspec": {
   "display_name": "Python 3 (ipykernel)",
   "language": "python",
   "name": "python3"
  },
  "language_info": {
   "codemirror_mode": {
    "name": "ipython",
    "version": 3
   },
   "file_extension": ".py",
   "mimetype": "text/x-python",
   "name": "python",
   "nbconvert_exporter": "python",
   "pygments_lexer": "ipython3",
   "version": "3.9.7"
  }
 },
 "nbformat": 4,
 "nbformat_minor": 5
}
