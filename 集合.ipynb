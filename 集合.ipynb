{
 "cells": [
  {
   "cell_type": "code",
   "execution_count": 9,
   "id": "cdee69fa",
   "metadata": {},
   "outputs": [
    {
     "name": "stdout",
     "output_type": "stream",
     "text": [
      "{'s', 'k', 'o', 'w', 'q', 'd', 'a', 'e'}\n"
     ]
    }
   ],
   "source": [
    "集合=set('dsadokwqke')\n",
    "#集合={1,2,3,4,5,6,7,8,9}\n",
    "#集合.add(20)\n",
    "#集合.discard(3)\n",
    "print(集合)"
   ]
  },
  {
   "cell_type": "code",
   "execution_count": null,
   "id": "95c7ff7b",
   "metadata": {},
   "outputs": [],
   "source": []
  },
  {
   "cell_type": "code",
   "execution_count": null,
   "id": "022ae515",
   "metadata": {},
   "outputs": [],
   "source": []
  }
 ],
 "metadata": {
  "kernelspec": {
   "display_name": "Python 3 (ipykernel)",
   "language": "python",
   "name": "python3"
  },
  "language_info": {
   "codemirror_mode": {
    "name": "ipython",
    "version": 3
   },
   "file_extension": ".py",
   "mimetype": "text/x-python",
   "name": "python",
   "nbconvert_exporter": "python",
   "pygments_lexer": "ipython3",
   "version": "3.9.7"
  }
 },
 "nbformat": 4,
 "nbformat_minor": 5
}
