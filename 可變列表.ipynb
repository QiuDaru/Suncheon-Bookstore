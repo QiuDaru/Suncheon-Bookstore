{
 "cells": [
  {
   "cell_type": "code",
   "execution_count": 16,
   "id": "dd3f7e08",
   "metadata": {},
   "outputs": [
    {
     "name": "stdout",
     "output_type": "stream",
     "text": [
      "[1, 2, 3, 4, 5, 6, 7, 8, 9]\n"
     ]
    }
   ],
   "source": [
    "lest=[1,2,3,4,5,6,7,8,9]\n",
    "#del lest[0]#刪除\n",
    "#lest.append(\"你好\")#新增\n",
    "#lest.insert(1, 'C')#插入,位置,資料\n",
    "print(lest)"
   ]
  },
  {
   "cell_type": "code",
   "execution_count": 5,
   "id": "720fed05",
   "metadata": {},
   "outputs": [
    {
     "name": "stdout",
     "output_type": "stream",
     "text": [
      "[1, 2, 3, 4, 5, 6, 200]\n"
     ]
    }
   ],
   "source": [
    "lest=[1,2,3,4,5,6]\n",
    "#del lest[0]\n",
    "#lest.append(200)\n",
    "lest.insert(1,200)\n",
    "print(lest)"
   ]
  },
  {
   "cell_type": "code",
   "execution_count": null,
   "id": "070ca79b",
   "metadata": {},
   "outputs": [],
   "source": []
  }
 ],
 "metadata": {
  "kernelspec": {
   "display_name": "Python 3 (ipykernel)",
   "language": "python",
   "name": "python3"
  },
  "language_info": {
   "codemirror_mode": {
    "name": "ipython",
    "version": 3
   },
   "file_extension": ".py",
   "mimetype": "text/x-python",
   "name": "python",
   "nbconvert_exporter": "python",
   "pygments_lexer": "ipython3",
   "version": "3.9.7"
  }
 },
 "nbformat": 4,
 "nbformat_minor": 5
}
