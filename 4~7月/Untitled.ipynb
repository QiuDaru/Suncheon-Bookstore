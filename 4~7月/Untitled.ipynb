{
 "cells": [
  {
   "cell_type": "code",
   "execution_count": 2,
   "id": "747b527e",
   "metadata": {},
   "outputs": [
    {
     "data": {
      "text/plain": [
       "6"
      ]
     },
     "execution_count": 2,
     "metadata": {},
     "output_type": "execute_result"
    }
   ],
   "source": [
    "x = 1\n",
    "if x == 0 :\n",
    "    print(\"你年幾歲?\")\n",
    "if x == 1 : #第一\n",
    "    print(\"我今年剛滿18歲\") #二\n",
    "    x = x+1\n",
    "    if x == 2 : #第二\n",
    "        print(\"馬卡巴卡\")\n",
    "        x=x+1\n",
    "        if x == 3 :\n",
    "            print(\"hey 渣男\")"
   ]
  },
  {
   "cell_type": "code",
   "execution_count": null,
   "metadata": {},
   "outputs": [],
   "source": []
  },
  {
   "cell_type": "code",
   "execution_count": 3,
   "id": "8b505205",
   "metadata": {},
   "outputs": [
    {
     "data": {
      "text/plain": [
       "'1+2+3'"
      ]
     },
     "execution_count": 3,
     "metadata": {},
     "output_type": "execute_result"
    }
   ],
   "source": [
    "\"1+2+3\""
   ]
  },
  {
   "cell_type": "code",
   "execution_count": null,
   "id": "b3622de5",
   "metadata": {},
   "outputs": [],
   "source": [
    "#321"
   ]
  }
 ],
 "metadata": {
  "kernelspec": {
   "display_name": "Python 3 (ipykernel)",
   "language": "python",
   "name": "python3"
  },
  "language_info": {
   "codemirror_mode": {
    "name": "ipython",
    "version": 3
   },
   "file_extension": ".py",
   "mimetype": "text/x-python",
   "name": "python",
   "nbconvert_exporter": "python",
   "pygments_lexer": "ipython3",
   "version": "3.9.7"
  }
 },
 "nbformat": 4,
 "nbformat_minor": 5
}
