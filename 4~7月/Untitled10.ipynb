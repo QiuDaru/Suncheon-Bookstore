{
 "cells": [
  {
   "cell_type": "code",
   "execution_count": 1,
   "id": "616f49f5",
   "metadata": {},
   "outputs": [
    {
     "name": "stdout",
     "output_type": "stream",
     "text": [
      "你要找的人是? : 恩齊\n",
      "選擇你的操作\n",
      "1.加點\n",
      "2.減點\n",
      "3.退出: 1\n",
      "金額: 2\n",
      "恩齊 的點數已增加 2，目前總點數為 302\n",
      "你要找的人是? : 3\n",
      "找不到名為 3 的人。\n",
      "你要找的人是? : \n",
      "找不到名為  的人。\n",
      "你要找的人是? : 1\n",
      "找不到名為 1 的人。\n",
      "你要找的人是? : 恩齊\n",
      "選擇你的操作\n",
      "1.加點\n",
      "2.減點\n",
      "3.退出: 3\n"
     ]
    }
   ],
   "source": [
    "import json\n",
    "\n",
    "# 讀取 JSON 檔案\n",
    "with open('student.json', encoding='utf8') as file:\n",
    "    Data = json.load(file)\n",
    "\n",
    "while True:\n",
    "    name_to_find = input(\"你要找的人是? : \")\n",
    "\n",
    "    found_person = None\n",
    "\n",
    "    # 尋找指定名字的人\n",
    "    for person in Data:\n",
    "        if person['名字'] == name_to_find:\n",
    "            found_person = person\n",
    "            break\n",
    "\n",
    "    if found_person:\n",
    "        operate = input(\"選擇你的操作\\n1.加點\\n2.減點\\n3.退出: \")\n",
    "\n",
    "        if operate == \"1\":\n",
    "            amount = int(input(\"金額: \"))\n",
    "            found_person['點數'] += amount\n",
    "            print(f\"{name_to_find} 的點數已增加 {amount}，目前總點數為 {found_person['點數']}\")\n",
    "        elif operate == \"2\":\n",
    "            amount = int(input(\"金額: \"))\n",
    "            found_person['點數'] -= amount\n",
    "            print(f\"{name_to_find} 的點數已減少 {amount}，目前總點數為 {found_person['點數']}\")\n",
    "        elif operate == \"3\":\n",
    "            # 將更新後的資料寫回 JSON 檔案\n",
    "            with open('student.json', 'w', encoding='utf8') as file:\n",
    "                json.dump(Data, file, ensure_ascii=False, indent=2)\n",
    "            break\n",
    "        else:\n",
    "            print(\"無效的操作，請重新輸入。\")\n",
    "    else:\n",
    "        print(f\"找不到名為 {name_to_find} 的人。\")\n"
   ]
  },
  {
   "cell_type": "code",
   "execution_count": 3,
   "id": "a3221bd7",
   "metadata": {},
   "outputs": [
    {
     "name": "stdout",
     "output_type": "stream",
     "text": [
      "[{'名字': '佑恩', '點數': 300}, {'名字': '以秉', '點數': 300}, {'名字': '恩齊', '點數': 302}, {'名字': '永哲', '點數': 300}, {'名字': '鴻銘', '點數': 300}, {'名字': '家瑄', '點數': 300}, {'名字': '家瑜', '點數': 300}, {'名字': '珉豪', '點數': 300}, {'名字': '拓霖', '點數': 300}, {'名字': '祖丞', '點數': 300}, {'名字': '芝語', '點數': 300}, {'名字': '昱升', '點數': 300}, {'名字': '子淇', '點數': 300}, {'名字': '品縈', '點數': 300}]\n"
     ]
    }
   ],
   "source": [
    "print(Data)"
   ]
  },
  {
   "cell_type": "code",
   "execution_count": null,
   "id": "376f0c46",
   "metadata": {},
   "outputs": [],
   "source": []
  }
 ],
 "metadata": {
  "kernelspec": {
   "display_name": "Python 3 (ipykernel)",
   "language": "python",
   "name": "python3"
  },
  "language_info": {
   "codemirror_mode": {
    "name": "ipython",
    "version": 3
   },
   "file_extension": ".py",
   "mimetype": "text/x-python",
   "name": "python",
   "nbconvert_exporter": "python",
   "pygments_lexer": "ipython3",
   "version": "3.11.5"
  }
 },
 "nbformat": 4,
 "nbformat_minor": 5
}
