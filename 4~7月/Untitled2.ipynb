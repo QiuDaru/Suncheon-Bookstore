{
 "cells": [
  {
   "cell_type": "code",
   "execution_count": 3,
   "id": "09b3723a",
   "metadata": {},
   "outputs": [
    {
     "name": "stdout",
     "output_type": "stream",
     "text": [
      "時間到2 秒秒"
     ]
    }
   ],
   "source": [
    "import time\n",
    "n = 11\n",
    "for i in range(1,10):\n",
    "    print(f'\\r倒數 {n-i} 秒', end='')\n",
    "    time.sleep(1)\n",
    "print('\\r時間到', end='')"
   ]
  },
  {
   "cell_type": "code",
   "execution_count": null,
   "id": "6985dc3c",
   "metadata": {},
   "outputs": [],
   "source": []
  }
 ],
 "metadata": {
  "kernelspec": {
   "display_name": "Python 3 (ipykernel)",
   "language": "python",
   "name": "python3"
  },
  "language_info": {
   "codemirror_mode": {
    "name": "ipython",
    "version": 3
   },
   "file_extension": ".py",
   "mimetype": "text/x-python",
   "name": "python",
   "nbconvert_exporter": "python",
   "pygments_lexer": "ipython3",
   "version": "3.9.7"
  }
 },
 "nbformat": 4,
 "nbformat_minor": 5
}
