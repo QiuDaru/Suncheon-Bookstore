{
 "cells": [
  {
   "cell_type": "code",
   "execution_count": 4,
   "id": "95fcf289",
   "metadata": {},
   "outputs": [
    {
     "name": "stdout",
     "output_type": "stream",
     "text": [
      "庫ㄟ\n"
     ]
    }
   ],
   "source": [
    "x=1\n",
    "if x==2:\n",
    "    print(\"你好\")\n",
    "x=x+1\n",
    "if x==2:\n",
    "    print(\"庫ㄟ\")"
   ]
  },
  {
   "cell_type": "code",
   "execution_count": null,
   "id": "5c0756c3",
   "metadata": {},
   "outputs": [],
   "source": []
  }
 ],
 "metadata": {
  "kernelspec": {
   "display_name": "Python 3 (ipykernel)",
   "language": "python",
   "name": "python3"
  },
  "language_info": {
   "codemirror_mode": {
    "name": "ipython",
    "version": 3
   },
   "file_extension": ".py",
   "mimetype": "text/x-python",
   "name": "python",
   "nbconvert_exporter": "python",
   "pygments_lexer": "ipython3",
   "version": "3.9.7"
  }
 },
 "nbformat": 4,
 "nbformat_minor": 5
}
